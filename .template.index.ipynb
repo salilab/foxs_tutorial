{
 "cells": [
  {
   "cell_type": "markdown",
   "metadata": {},
   "source": [
    "Fitting against SAXS data with FoXS and MultiFoXS {#mainpage}\n",
    "=================================================\n",
    "\n",
    "Some proteins or their complexes can be characterized using small angle X-ray (SAXS) experiments. SAXS differs from X-ray crystallography in that it is applied to proteins in solution rather than crystals; thus, it can be applied to a much wider range of proteins in states more closely resembling their functional forms than X-ray crystallography. Because the sample is in solution, the SAXS information is rotationally averaged and so the resulting SAXS profile gives less structural information than X-ray\n",
    "crystallography; however, this is often sufficient to determine problems with the structure or to distinguish possible conformations.\n",
    "\n",
    "IMP includes tools for fitting both single-state and multi-state models against SAXS data, both of which are introduced here:\n"
   ]
  },
  {
   "cell_type": "markdown",
   "metadata": {},
   "source": [
    "%%colabexclude\n",
    "- [FoXS: fitting single structures against SAXS data](@file foxs)\n",
    "\n",
    "- [MultiFoXS: determination of multi-state models](@file multifoxs)\n"
   ]
  },
  {
   "cell_type": "markdown",
   "metadata": {},
   "source": [
    "%%colabonly\n",
    "- [FoXS: fitting single structures against SAXS data](@file foxs-colab)\n",
    "\n",
    "- [MultiFoXS: determination of multi-state models](@file multifoxs-colab)\n"
   ]
  }
 ],
 "metadata": {
  "kernelspec": {
   "display_name": "Python 3",
   "language": "python",
   "name": "python3"
  },
  "language_info": {
   "codemirror_mode": {
    "name": "ipython",
    "version": 3
   },
   "file_extension": ".py",
   "mimetype": "text/x-python",
   "name": "python",
   "nbconvert_exporter": "python",
   "pygments_lexer": "ipython3",
   "version": "3.7.6"
  }
 },
 "nbformat": 4,
 "nbformat_minor": 4
}

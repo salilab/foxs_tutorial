{
  "cells": [
    {
      "cell_type": "markdown",
      "metadata": {},
      "source": [
        "MultiFoXS: determination of multi-state models<a id=\"multifoxs\"></a>\n",
        "==============================================\n",
        "\n",
        "**Table of contents**\n",
        "\n",
        " - [Introduction](#mf_introduction)\n",
        " - [Calculation](#mf_calculation)\n",
        "\n",
        "# Introduction<a id=\"mf_introduction\"></a>\n",
        "\n",
        "In many cases our data comes from a heterogeneous sample. Heterogeneity can be both compositional and conformational. Interpretation of data collected on a heterogeneous sample requires a *multi-state model*. A multi-state model is a model that specifies two or more co-existing structural states and values for other parameters, such as the weights of each state.\n",
        "\n",
        "IMP includes a command line tool `multi_foxs` for enumeration and scoring of multi-state models against SAXS profiles. There is also a [web interface](https://salilab.org/multifoxs/) available, which functions similarly.\n",
        "\n",
        "In this example, we will demonstrate how to use it using PDB structures of replication protein A and a simulated SAXS profile.\n",
        "\n",
        "For full help on the `multi_foxs` tool, run from a command line:\n"
      ]
    },
    {
      "cell_type": "code",
      "execution_count": null,
      "metadata": {},
      "outputs": [],
      "source": [
        "multi_foxs --help"
      ]
    },
    {
      "cell_type": "markdown",
      "metadata": {},
      "source": [
        "# Calculation<a id=\"mf_calculation\"></a>\n",
        "\n",
        "The structure of the RPA in complex with ssDNA is available in the [Protein Data Bank (PDB)](https://www.rcsb.org/) as code [1jmc](https://www.rcsb.org/structure/1JMC) (file `1jmc.pdb` in the ` multi_foxs/rpa` directory), and the unbound RPA structures as code [1fgu](https://www.rcsb.org/structure/1FGU) (file `1fguA.pdb`, `1fguB.pdb`), while the SAXS profile is given in the `weighted.dat` file. The SAXS profile was simulated from the 3 structures with the following weights:\n",
        "\n",
        "```\n",
        "1jmc.pdb 0.5\n",
        "1fguA.pdb 0.25\n",
        "1fguB.pdb 0.25\n",
        "```\n",
        "\n",
        "3% Gaussian noise was added to the simulated profile.\n",
        "\n",
        "The atomic structures can be fit against the SAXS profile by running MultiFoXS:"
      ]
    },
    {
      "cell_type": "code",
      "execution_count": null,
      "metadata": {},
      "outputs": [],
      "source": [
        "cd multi_foxs/rpa\n",
        "multi_foxs weighted.dat 1fguA.pdb 1fguB.pdb 1jmc.pdb"
      ]
    },
    {
      "cell_type": "markdown",
      "metadata": {},
      "source": [
        "FoXS calculates the theoretical profiles of the input structures, enumerates multi-state models, and fits them to the input SAXS profile.  The output is a list of best scoring multi-state models of\n",
        "size 1, 2, and 3 in files `ensembles_size_1.txt`, `ensembles_size_2.txt`, and `ensembles_size_3.txt`,\n",
        "respectively. It also generates `multi_state_model_x_x_x.dat` files, containing the computed theoretical profile for the multi-state model and its fit against the experimental profile.\n",
        "\n",
        "In this example, the best fit is obtained using a 3-state model (\ud835\udf4c=1.74) `ensembles_size_3.txt`, with weights of 0.53, 0.197, and 0.27, showing a maximal deviation of 7% compared to the weights that were used to simulate the profile:\n",
        "\n",
        "```\n",
        "1 |  1.74 | x1 1.74 (1.03, 0.53)\n",
        "0   | 0.533 (0.533, 1.000) | 1jmc.pdb (0.333)\n",
        "1   | 0.197 (0.197, 1.000) | 1fguA.pdb (0.333)\n",
        "2   | 0.270 (0.270, 1.000) | 1fguB.pdb (0.333)\n",
        "```"
      ]
    }
  ],
  "metadata": {
    "kernelspec": {
      "display_name": "Bash",
      "language": "bash",
      "name": "bash"
    },
    "language_info": {
      "codemirror_mode": "shell",
      "file_extension": ".sh",
      "mimetype": "text/x-sh",
      "name": "bash"
    }
  },
  "nbformat": 4,
  "nbformat_minor": 4
}
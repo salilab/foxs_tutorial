{
 "cells": [
  {
   "cell_type": "markdown",
   "metadata": {},
   "source": [
    "# FoXS: fitting structures against SAXS data\n",
    "\n",
    "## Introduction\n",
    "\n",
    "Nup133 is one of the proteins that make up the yeast\n",
    "[Nuclear Pore Complex (NPC)](https://salilab.org/npc/). The structure of\n",
    "this protein has been characterized by both X-ray crystallography and\n",
    "small angle X-ray (SAXS).\n",
    "\n",
    "IMP includes a command line tool <tt>foxs</tt> for handling SAXS profiles,\n",
    "which will be demonstrated in this example.\n",
    "There is also a [web interface](https://salilab.org/foxs/) available,\n",
    "which functions similarly.\n",
    "\n",
    "For full help on the `foxs` tool, run from a command line:"
   ]
  },
  {
   "cell_type": "code",
   "execution_count": 1,
   "metadata": {},
   "outputs": [
    {
     "name": "stdout",
     "output_type": "stream",
     "text": [
      "foxs -h \n",
      "Usage: <pdb_file1> <pdb_file2> ... <profile_file1> <profile_file2> ... :\n",
      "\n",
      "Options:\n",
      "  --help                             Any number of input PDBs and profiles is \n",
      "                                     supported. Each PDB will be fitted against\n",
      "                                     each profile.\n",
      "  --version                          FoXS (IMP applications)\n",
      "                                     Copyright 2007-2019 IMP Inventors.\n",
      "                                     All rights reserved. \n",
      "                                     License: GNU LGPL version 2.1 or later\n",
      "                                     <http://gnu.org/licenses/lgpl.html>.\n",
      "                                     Written by Dina Schneidman.\n",
      "  -s [ --profile_size ] arg (=500)   number of points in the profile\n",
      "  -q [ --max_q ] arg (=0.50)         max q value\n",
      "  --min_c1 arg (=0.99)               min c1 value\n",
      "  --max_c1 arg (=1.05)               max c1 value\n",
      "  --min_c2 arg (=-2.00)              min c2 value\n",
      "  --max_c2 arg (=4.00)               max c2 value\n",
      "  -h [ --hydrogens ]                 explicitly consider hydrogens in PDB files\n",
      "                                     (default = false)\n",
      "  -r [ --residues ]                  fast coarse grained calculation using CA \n",
      "                                     atoms only (default = false)\n",
      "  -b [ --background_q ] arg (=0)     background adjustment, not used by \n",
      "                                     default. if enabled, recommended q value \n",
      "                                     is 0.2\n",
      "  -o [ --offset ]                    use offset in fitting (default = false)\n",
      "  -p [ --write-partial-profile ]     write partial profile file (default = \n",
      "                                     false)\n",
      "  -m [ --multi-model-pdb ] arg (=1)  1 - read the first MODEL only (default), 2\n",
      "                                     - read each MODEL into a separate \n",
      "                                     structure, 3 - read all models into a \n",
      "                                     single structure\n",
      "  -u [ --units ] arg (=1)            1 - unknown --> determine automatically \n",
      "                                     (default) 2 - q values are in 1/A, 3 - q \n",
      "                                     values are in 1/nm\n",
      "  -v [ --volatility_ratio ]          calculate volatility ratio score (default \n",
      "                                     = false)\n",
      "  -l [ --score_log ]                 use log(intensity) in fitting and scoring \n",
      "                                     (default = false)\n",
      "  -g [ --gnuplot_script ]            print gnuplot script for gnuplot viewing \n",
      "                                     (default = false)\n",
      "\n"
     ]
    }
   ],
   "source": [
    "foxs -h"
   ]
  },
  {
   "cell_type": "markdown",
   "metadata": {},
   "source": [
    "# Calculation\n",
    "\n",
    "The structure of the C-terminal domain of yeast Nup133 is available in the\n",
    "[RCSB Protein Data Bank (PDB)](http://www.pdb.org) as code\n",
    "[3kfo](http://www.pdb.org/pdb/explore/explore.do?structureId=3KFO)\n",
    "(file `3KFO.pdb`), while the experimental SAXS profile is given in the\n",
    "`23922_merge.dat` file. The atomic structure can be fit against the\n",
    "SAXS profile by running FoXS:"
   ]
  },
  {
   "cell_type": "code",
   "execution_count": 2,
   "metadata": {},
   "outputs": [
    {
     "name": "stdout",
     "output_type": "stream",
     "text": [
      "foxs 3KFO.pdb 23922_merge.dat \n",
      "begin read_pdb:\n",
      "  WARNING  Sorry, unable to read atoms from PDB file. Thanks for the effort.\n",
      "end read_pdb\n",
      "Computing profile for 3KFO.pdb 1669 atoms \n",
      "WARNING  Nitrogen atom not found, using default N form factor for \"HET: N  \" \"MSE\"\n",
      "WARNING  Carbon atom not found, using default C form factor for \"HET: CA \" \"MSE\"\n",
      "WARNING  Carbon atom not found, using default C form factor for \"HET: C  \" \"MSE\"\n",
      "WARNING  Oxygen atom not found, using default O form factor for \"HET: O  \" \"MSE\"\n",
      "WARNING  Carbon atom not found, using default C form factor for \"HET: CB \" \"MSE\"\n",
      "WARNING  Carbon atom not found, using default C form factor for \"HET: CG \" \"MSE\"\n",
      "WARNING  Carbon atom not found, using default C form factor for \"HET: CE \" \"MSE\"\n",
      "3KFO.pdb 23922_merge.dat Chi^2 = 8.76148 c1 = 1.02509 c2 = 3.3952 default chi^2 = 97.6038\n"
     ]
    }
   ],
   "source": [
    "foxs 3KFO.pdb 23922_merge.dat"
   ]
  },
  {
   "cell_type": "markdown",
   "metadata": {},
   "source": [
    "FoXS calculates the theoretical profile of the 3KFO structure and fits it\n",
    "against the experimental profile, and determines the quality of the fit, Chi,\n",
    "with smaller values corresponding to closer fits. It also generates two\n",
    "`.dat` files, one containing the theoretical profile and the other\n",
    "this profile fit against the experimental profile. These files can be input to\n",
    "a plotting package (two [gnuplot](http://www.gnuplot.info/) input\n",
    "files with a `.plt` extension are provided).\n",
    "\n",
    "The fit in this example is not a good one (Chi=2.96). To understand why this\n",
    "is so, the header of the 3KFO PDB file can be examined in a text editor.\n",
    "This reveals two problems. Several residues at the N and C termini were not\n",
    "resolved in the X-ray experiment (9 in total, 2 at the N terminus and 7 at the\n",
    "C terminus), and the sidechains of 16 other residues could also not be located\n",
    "(REMARK 465 and REMARK 470 lines). This problem can be resolved by adding in\n",
    "the missing atoms and residues by using\n",
    "[MODELLER](https://salilab.org/modeller/), which generated the\n",
    "<tt>3KFO-fill.B99990005.pdb</tt> file.\n",
    "\n",
    "\\note See `add-missing-residues.py` for the MODELLER script used. It simply\n",
    "      builds a model of the full sequence of 3KFO using the partial sequence\n",
    "      as a template (see the alignment file `alignment.ali`). Multiple models\n",
    "      are generated; each is fit against the SAXS data using FoXS and the\n",
    "      best-fitting model (`3KFO-fill.B99990005.pdb`) selected.\n",
    "\n",
    "The fits of the original PDB and the new structure can now be generated by\n",
    "running:"
   ]
  },
  {
   "cell_type": "code",
   "execution_count": 3,
   "metadata": {},
   "outputs": [
    {
     "name": "stdout",
     "output_type": "stream",
     "text": [
      "foxs -g 3KFO.pdb 3KFO-fill.B99990005.pdb 23922_merge.dat \n",
      "begin read_pdb:\n",
      "  WARNING  Sorry, unable to read atoms from PDB file. Thanks for the effort.\n",
      "end read_pdb\n",
      "Computing profile for 3KFO.pdb 1669 atoms \n",
      "WARNING  Nitrogen atom not found, using default N form factor for \"HET: N  \" \"MSE\"\n",
      "WARNING  Carbon atom not found, using default C form factor for \"HET: CA \" \"MSE\"\n",
      "WARNING  Carbon atom not found, using default C form factor for \"HET: C  \" \"MSE\"\n",
      "WARNING  Oxygen atom not found, using default O form factor for \"HET: O  \" \"MSE\"\n",
      "WARNING  Carbon atom not found, using default C form factor for \"HET: CB \" \"MSE\"\n",
      "WARNING  Carbon atom not found, using default C form factor for \"HET: CG \" \"MSE\"\n",
      "WARNING  Carbon atom not found, using default C form factor for \"HET: CE \" \"MSE\"\n",
      "3KFO.pdb 23922_merge.dat Chi^2 = 8.76148 c1 = 1.02509 c2 = 3.3952 default chi^2 = 97.6038\n",
      "Computing profile for 3KFO-fill.B99990005.pdb 1817 atoms \n",
      "3KFO-fill.B99990005.pdb 23922_merge.dat Chi^2 = 1.31118 c1 = 1.02835 c2 = 0.93184 default chi^2 = 40.5672\n"
     ]
    }
   ],
   "source": [
    "foxs -g 3KFO.pdb 3KFO-fill.B99990005.pdb 23922_merge.dat"
   ]
  },
  {
   "cell_type": "markdown",
   "metadata": {},
   "source": [
    "The output shows that the new structure has a significantly better fit\n",
    "(Chi=1.15). FoXS generates a gnuplot input file `fit.plt` which will\n",
    "plot the fits of all of the PDBs given against the profile. This can be\n",
    "run with:"
   ]
  },
  {
   "cell_type": "code",
   "execution_count": 4,
   "metadata": {},
   "outputs": [],
   "source": [
    "gnuplot fit.plt"
   ]
  },
  {
   "cell_type": "markdown",
   "metadata": {},
   "source": [
    "This generates an image, `fit.png`, showing the theoretical profiles\n",
    "(lines in top panel), the experimental profile (points in top panel) and the\n",
    "ratios of the experimental to theoretical profiles (bottom panel):"
   ]
  },
  {
   "cell_type": "markdown",
   "metadata": {},
   "source": [
    "![title](fit.png)"
   ]
  }
 ],
 "metadata": {
  "kernelspec": {
   "display_name": "Bash",
   "language": "bash",
   "name": "bash"
  },
  "language_info": {
   "codemirror_mode": "shell",
   "file_extension": ".sh",
   "mimetype": "text/x-sh",
   "name": "bash"
  }
 },
 "nbformat": 4,
 "nbformat_minor": 2
}

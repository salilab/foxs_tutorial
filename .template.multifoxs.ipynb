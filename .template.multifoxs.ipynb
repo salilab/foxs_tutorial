{
 "cells": [
  {
   "cell_type": "markdown",
   "metadata": {},
   "source": [
    "MultiFoXS: determination of multi-state models {#multifoxs}\n",
    "==============================================\n",
    "\n",
    "[TOC]\n",
    "\n",
    "# Introduction {#mf_introduction}\n",
    "\n",
    "In many cases our data comes from a heterogeneous sample. Heterogeneity can be both compositional and conformational. Interpretation of data collected on a heterogeneous sample requires a *multi-state model*. A multi-state model is a model that specifies two or more co-existing structural states and values for other parameters, such as the weights of each state.\n",
    "\n",
    "IMP includes a command line tool `multi_foxs` for enumeration and scoring of multi-state models against SAXS profiles. There is also a [web interface](https://salilab.org/multifoxs/) available, which functions similarly.\n",
    "\n",
    "In this example, we will demonstrate how to use it using PDB structures of replication protein A and a simulated SAXS profile.\n"
   ]
  },
  {
   "cell_type": "markdown",
   "metadata": {},
   "source": [
    "%%htmlonly\n",
    "This tutorial can be followed in several ways:\n",
    "\n",
    " - Download the files using the \"Clone or download\" link at the [tutorial's GitHub page](https://github.com/salilab/foxs_tutorial/) and use them in conjunction with this text.\n",
    " - [Download the files from GitHub](https://github.com/salilab/foxs_tutorial/) and, using [Jupyter Notebook](https://jupyter.org/), open the notebook `multifoxs.ipynb`.\n",
    " - [Load the tutorial directly in your browser](https://colab.research.google.com/github/salilab/foxs_tutorial/blob/main/multifoxs-colab.ipynb), courtesy of [Google Colaboratory](https://colab.research.google.com/). (This needs no software installed on your machine, but may take a while to load.)"
   ]
  },
  {
   "cell_type": "markdown",
   "metadata": {},
   "source": [
    "%%colabonly\n",
    "First, we need to install IMP:"
   ]
  },
  {
   "cell_type": "code",
   "execution_count": null,
   "metadata": {},
   "outputs": [],
   "source": [
    "#%%colabonly\n",
    "!add-apt-repository -y ppa:salilab/ppa\n",
    "!apt install imp\n",
    "import sys, os, glob\n",
    "sys.path.append(os.path.dirname(glob.glob('/usr/lib/python*/dist-packages/IMP')[0]))"
   ]
  },
  {
   "cell_type": "markdown",
   "metadata": {},
   "source": [
    "%%colabonly\n",
    "Next, download the files for this tutorial from GitHub:"
   ]
  },
  {
   "cell_type": "code",
   "execution_count": null,
   "metadata": {},
   "outputs": [],
   "source": [
    "#%%colabonly\n",
    "!git clone https://github.com/salilab/foxs_tutorial.git\n",
    "%cd foxs_tutorial/"
   ]
  },
  {
   "cell_type": "markdown",
   "metadata": {},
   "source": [
    "%%htmlonly\n",
    "For full help on the `multi_foxs` tool, run from a command line:"
   ]
  },
  {
   "cell_type": "markdown",
   "metadata": {},
   "source": [
    "%%htmlexclude\n",
    "For full help on the `multi_foxs` tool, run from a command line (the ! prefix here requests the Linux shell command line, rather than Python):"
   ]
  },
  {
   "cell_type": "code",
   "execution_count": null,
   "metadata": {},
   "outputs": [],
   "source": [
    "!multi_foxs --help"
   ]
  },
  {
   "cell_type": "markdown",
   "metadata": {},
   "source": [
    "# Calculation {#mf_calculation}\n",
    "\n",
    "The structure of the RPA in complex with ssDNA is available in the [Protein Data Bank (PDB)](https://www.rcsb.org/) as code [1jmc](https://www.rcsb.org/structure/1JMC) (file `1jmc.pdb` in the ` multi_foxs/rpa` directory), and the unbound RPA structures as code [1fgu](https://www.rcsb.org/structure/1FGU) (file `1fguA.pdb`, `1fguB.pdb`), while the SAXS profile is given in the `weighted.dat` file. The SAXS profile was simulated from the 3 structures with the following weights:\n",
    "\n",
    "```\n",
    "1jmc.pdb 0.5\n",
    "1fguA.pdb 0.25\n",
    "1fguB.pdb 0.25\n",
    "```\n",
    "\n",
    "3% Gaussian noise was added to the simulated profile.\n",
    "\n",
    "The atomic structures can be fit against the SAXS profile by running MultiFoXS:"
   ]
  },
  {
   "cell_type": "code",
   "execution_count": null,
   "metadata": {},
   "outputs": [],
   "source": [
    "%cd multi_foxs/rpa\n",
    "!multi_foxs weighted.dat 1fguA.pdb 1fguB.pdb 1jmc.pdb"
   ]
  },
  {
   "cell_type": "markdown",
   "metadata": {},
   "source": [
    "FoXS calculates the theoretical profiles of the input structures, enumerates multi-state models, and fits them to the input SAXS profile.  The output is a list of best scoring multi-state models of\n",
    "size 1, 2, and 3 in files `ensembles_size_1.txt`, `ensembles_size_2.txt`, and `ensembles_size_3.txt`,\n",
    "respectively. It also generates `multi_state_model_x_x_x.dat` files, containing the computed theoretical profile for the multi-state model and its fit against the experimental profile.\n",
    "\n",
    "In this example, the best fit is obtained using a 3-state model (𝝌=2.80) `ensembles_size_3.txt`, with weights of 0.53, 0.23, and 0.25, showing a maximal deviation of 2% compared to the weights that were used to simulate the profile:\n"
   ]
  },
  {
   "cell_type": "markdown",
   "metadata": {},
   "source": [
    "%%htmlonly\n",
    "```\n",
    "1 |  2.80 | x1 2.80 (1.03, 0.53)\n",
    "    0   | 0.525 (0.525, 1.000) | 1jmc.pdb (0.333)\n",
    "    1   | 0.226 (0.226, 1.000) | 1fguA.pdb (0.333)\n",
    "    2   | 0.249 (0.249, 1.000) | 1fguB.pdb (0.333)\n",
    "```"
   ]
  },
  {
   "cell_type": "code",
   "execution_count": null,
   "metadata": {},
   "outputs": [],
   "source": [
    "#%%htmlexclude\n",
    "!cat ensembles_size_3.txt"
   ]
  }
 ],
 "metadata": {
  "kernelspec": {
   "display_name": "Python 3",
   "language": "python",
   "name": "python3"
  },
  "language_info": {
   "codemirror_mode": {
    "name": "ipython",
    "version": 3
   },
   "file_extension": ".py",
   "mimetype": "text/x-python",
   "name": "python",
   "nbconvert_exporter": "python",
   "pygments_lexer": "ipython3",
   "version": "3.7.6"
  }
 },
 "nbformat": 4,
 "nbformat_minor": 4
}
